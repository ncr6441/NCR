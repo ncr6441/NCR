{
  "nbformat": 4,
  "nbformat_minor": 0,
  "metadata": {
    "colab": {
      "provenance": []
    },
    "kernelspec": {
      "name": "python3",
      "display_name": "Python 3"
    },
    "language_info": {
      "name": "python"
    }
  },
  "cells": [
    {
      "cell_type": "code",
      "execution_count": 1,
      "metadata": {
        "colab": {
          "base_uri": "https://localhost:8080/"
        },
        "id": "ayQT5HIQoYgk",
        "outputId": "ca15848b-a8a3-4a34-e874-af734b975e0b"
      },
      "outputs": [
        {
          "output_type": "execute_result",
          "data": {
            "text/plain": [
              "10"
            ]
          },
          "metadata": {},
          "execution_count": 1
        }
      ],
      "source": [
        "2*5"
      ]
    },
    {
      "cell_type": "code",
      "source": [],
      "metadata": {
        "id": "9m9NcgRIogQw"
      },
      "execution_count": null,
      "outputs": []
    },
    {
      "cell_type": "markdown",
      "source": [
        "11/01/23"
      ],
      "metadata": {
        "id": "3ge7Ic6bogrn"
      }
    },
    {
      "cell_type": "markdown",
      "source": [
        "Repositiories are excellenct ways to share files and track changes in files, codes, and more. This is an essential aspect in research, collaboration. Repositories balnce the line between security and openness. Platforms like GitHUB seek to increase the reproducibility of research in the computational world which is growing to be an ever more pressing matter."
      ],
      "metadata": {
        "id": "XqHXbWg0pLgl"
      }
    }
  ]
}